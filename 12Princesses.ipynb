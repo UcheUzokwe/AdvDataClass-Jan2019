{
 "cells": [
  {
   "cell_type": "markdown",
   "metadata": {},
   "source": [
    "# 12 Princesses Text Analysis\n",
    "\n",
    "From this link - download the 12dancingprincesses.txt file. Then read the file and use the NLTK library to tokenize each word in the text. This module uses the Natural Language Toolkit Library (NLTK) to look at individual words and sentences in a text and clean unneccessary features from the text data to prepare for sentiment analysis. Also using the textblob library, analysis on the sentiment of opinioned data will generate a numerical value for use in a predictive model."
   ]
  },
  {
   "cell_type": "code",
   "execution_count": 113,
   "metadata": {},
   "outputs": [],
   "source": [
    "#Load the text file used for the analysis\n",
    "filepath = 'datasets\\dancingprincesses.txt'\n"
   ]
  },
  {
   "cell_type": "markdown",
   "metadata": {},
   "source": [
    "#### Tokenizing Words and Sentences\n",
    "\n",
    "Recall in the \"Python Dictionaries and String Manipulation\" notebook, we used the .split() function to break a sentence apart. However, because the default character to split on is a space, the .split() function does not work well with sentences that have punctuation.\n",
    "\n",
    "The NLTK library was built to separate punctuation from words when tokenizing (splitting into parts)."
   ]
  },
  {
   "cell_type": "code",
   "execution_count": 114,
   "metadata": {},
   "outputs": [],
   "source": [
    "import nltk\n",
    "from nltk.tokenize import word_tokenize\n",
    "from nltk.tokenize import sent_tokenize\n",
    "from nltk.tokenize import TweetTokenizer\n",
    "from nltk.probability import FreqDist\n",
    "from nltk.corpus import stopwords\n",
    "from nltk.stem import WordNetLemmatizer\n",
    "\n",
    "#this is sample data\n",
    "#from nltk.corpus import names  \n",
    "\n",
    "from string import punctuation\n",
    "\n",
    "#if the next cell does not work\n",
    "#remove number symbol on following lines and re-run this cell\n",
    "#nltk.download('punkt')\n",
    "#nltk.download('wordnet')\n",
    "#nltk.download('names')\n",
    "#nltk.download('stopwords')"
   ]
  },
  {
   "cell_type": "code",
   "execution_count": 115,
   "metadata": {},
   "outputs": [],
   "source": [
    "#Create an array to hold the list of tokenized words\n",
    "OrigText = []\n"
   ]
  },
  {
   "cell_type": "code",
   "execution_count": 116,
   "metadata": {},
   "outputs": [
    {
     "name": "stdout",
     "output_type": "stream",
     "text": [
      "['the', 'twelve', 'dancing', 'princesses']\n",
      "['there', 'was', 'a', 'king', 'who', 'had', 'twelve', 'beautiful', 'daughters', '.', 'they', 'slept', 'in']\n",
      "['twelve', 'beds', 'all', 'in', 'one', 'room', ';', 'and', 'when', 'they', 'went', 'to', 'bed', ',', 'the', 'doors', 'were']\n",
      "['shut', 'and', 'locked', 'up', ';', 'but', 'every', 'morning', 'their', 'shoes', 'were', 'found', 'to', 'be', 'quite']\n",
      "['worn', 'through', 'as', 'if', 'they', 'had', 'been', 'danced', 'in', 'all', 'night', ';', 'and', 'yet', 'nobody']\n",
      "['could', 'find', 'out', 'how', 'it', 'happened', ',', 'or', 'where', 'they', 'had', 'been', '.']\n",
      "['then', 'the', 'king', 'made', 'it', 'known', 'to', 'all', 'the', 'land', ',', 'that', 'if', 'any', 'person', 'could']\n",
      "['discover', 'the', 'secret', ',', 'and', 'find', 'out', 'where', 'it', 'was', 'that', 'the', 'princesses']\n",
      "['danced', 'in', 'the', 'night', ',', 'he', 'should', 'have', 'the', 'one', 'he', 'liked', 'best', 'for', 'his']\n",
      "['wife', ',', 'and', 'should', 'be', 'king', 'after', 'his', 'death', ';', 'but', 'whoever', 'tried', 'and', 'did', 'not']\n",
      "['succeed', ',', 'after', 'three', 'days', 'and', 'nights', ',', 'should', 'be', 'put', 'to', 'death', '.']\n",
      "['a', 'king', '’', 's', 'son', 'soon', 'came', '.', 'he', 'was', 'well', 'entertained', ',', 'and', 'in', 'the', 'evening', 'was']\n",
      "['taken', 'to', 'the', 'chamber', 'next', 'to', 'the', 'one', 'where', 'the', 'princesses', 'lay', 'in', 'their']\n",
      "['twelve', 'beds', '.', 'there', 'he', 'was', 'to', 'sit', 'and', 'watch', 'where', 'they', 'went', 'to', 'dance', ';']\n",
      "['and', ',', 'in', 'order', 'that', 'nothing', 'might', 'pass', 'without', 'his', 'hearing', 'it', ',', 'the', 'door']\n",
      "['of', 'his', 'chamber', 'was', 'left', 'open', '.', 'but', 'the', 'king', '’', 's', 'son', 'soon', 'fell', 'asleep', ';', 'and']\n",
      "['when', 'he', 'awoke', 'in', 'the', 'morning', 'he', 'found', 'that', 'the', 'princesses', 'had', 'all', 'been']\n",
      "['dancing', ',', 'for', 'the', 'soles', 'of', 'their', 'shoes', 'were', 'full', 'of', 'holes', '.', 'the', 'same', 'thing']\n",
      "['happened', 'the', 'second', 'and', 'third', 'night', ':', 'so', 'the', 'king', 'ordered', 'his', 'head', 'to', 'be']\n",
      "['cut', 'off', '.', 'after', 'him', 'came', 'several', 'others', ';', 'but', 'they', 'had', 'all', 'the', 'same', 'luck', ',']\n",
      "['and', 'all', 'lost', 'their', 'lives', 'in', 'the', 'same', 'manner', '.']\n",
      "['now', 'it', 'chanced', 'that', 'an', 'old', 'soldier', ',', 'who', 'had', 'been', 'wounded', 'in', 'battle']\n",
      "['and', 'could', 'fight', 'no', 'longer', ',', 'passed', 'through', 'the', 'country', 'where', 'this', 'king']\n",
      "['reigned', ':', 'and', 'as', 'he', 'was', 'travelling', 'through', 'a', 'wood', ',', 'he', 'met', 'an', 'old', 'woman', ',']\n",
      "['who', 'asked', 'him', 'where', 'he', 'was', 'going', '.', '‘', 'i', 'hardly', 'know', 'where', 'i', 'am', 'going', ',', 'or']\n",
      "['what', 'i', 'had', 'better', 'do', ',', '’', 'said', 'the', 'soldier', ';', '‘', 'but', 'i', 'think', 'i', 'should', 'like', 'very']\n",
      "['well', 'to', 'find', 'out', 'where', 'it', 'is', 'that', 'the', 'princesses', 'dance', ',', 'and', 'then', 'in', 'time']\n",
      "['i', 'might', 'be', 'a', 'king.', '’', '‘', 'well', ',', '’', 'said', 'the', 'old', 'dame', ',', '‘', 'that', 'is', 'no', 'very', 'hard']\n",
      "['task', ':', 'only', 'take', 'care', 'not', 'to', 'drink', 'any', 'of', 'the', 'wine', 'which', 'one', 'of', 'the']\n",
      "['princesses', 'will', 'bring', 'to', 'you', 'in', 'the', 'evening', ';', 'and', 'as', 'soon', 'as', 'she', 'leaves']\n",
      "['you', 'pretend', 'to', 'be', 'fast', 'asleep', '.', '’']\n",
      "['then', 'she', 'gave', 'him', 'a', 'cloak', ',', 'and', 'said', ',', '‘', 'as', 'soon', 'as', 'you', 'put', 'that', 'on']\n",
      "['you', 'will', 'become', 'invisible', ',', 'and', 'you', 'will', 'then', 'be', 'able', 'to', 'follow', 'the']\n",
      "['princesses', 'wherever', 'they', 'go.', '’', 'when', 'the', 'soldier', 'heard', 'all', 'this', 'good']\n",
      "['counsel', ',', 'he', 'determined', 'to', 'try', 'his', 'luck', ':', 'so', 'he', 'went', 'to', 'the', 'king', ',', 'and', 'said']\n",
      "['he', 'was', 'willing', 'to', 'undertake', 'the', 'task', '.']\n",
      "['he', 'was', 'as', 'well', 'received', 'as', 'the', 'others', 'had', 'been', ',', 'and', 'the', 'king', 'ordered']\n",
      "['fine', 'royal', 'robes', 'to', 'be', 'given', 'him', ';', 'and', 'when', 'the', 'evening', 'came', 'he', 'was', 'led']\n",
      "['to', 'the', 'outer', 'chamber', '.', 'just', 'as', 'he', 'was', 'going', 'to', 'lie', 'down', ',', 'the', 'eldest', 'of']\n",
      "['the', 'princesses', 'brought', 'him', 'a', 'cup', 'of', 'wine', ';', 'but', 'the', 'soldier', 'threw', 'it', 'all']\n",
      "['away', 'secretly', ',', 'taking', 'care', 'not', 'to', 'drink', 'a', 'drop', '.', 'then', 'he', 'laid', 'himself']\n",
      "['down', 'on', 'his', 'bed', ',', 'and', 'in', 'a', 'little', 'while', 'began', 'to', 'snore', 'very', 'loud', 'as', 'if']\n",
      "['he', 'was', 'fast', 'asleep', '.', 'when', 'the', 'twelve', 'princesses', 'heard', 'this', 'they', 'laughed']\n",
      "['heartily', ';', 'and', 'the', 'eldest', 'said', ',', '‘', 'this', 'fellow', 'too', 'might', 'have', 'done', 'a', 'wiser']\n",
      "['thing', 'than', 'lose', 'his', 'life', 'in', 'this', 'way', '!', '’', 'then', 'they', 'rose', 'up', 'and', 'opened']\n",
      "['their', 'drawers', 'and', 'boxes', ',', 'and', 'took', 'out', 'all', 'their', 'fine', 'clothes', ',', 'and']\n",
      "['dressed', 'themselves', 'at', 'the', 'glass', ',', 'and', 'skipped', 'about', 'as', 'if', 'they', 'were', 'eager']\n",
      "['to', 'begin', 'dancing', '.', 'but', 'the', 'youngest', 'said', ',', '‘', 'i', 'don', '’', 't', 'know', 'how', 'it', 'is', ',', 'while']\n",
      "['you', 'are', 'so', 'happy', 'i', 'feel', 'very', 'uneasy', ';', 'i', 'am', 'sure', 'some', 'mischance', 'will']\n",
      "['befall', 'us.', '’', '‘', 'you', 'simpleton', ',', '’', 'said', 'the', 'eldest', ',', '‘', 'you', 'are', 'always', 'afraid', ';']\n",
      "['have', 'you', 'forgotten', 'how', 'many', 'kings', '’', 'sons', 'have', 'already', 'watched', 'in', 'vain', '?']\n",
      "['and', 'as', 'for', 'this', 'soldier', ',', 'even', 'if', 'i', 'had', 'not', 'given', 'him', 'his', 'sleeping']\n",
      "['draught', ',', 'he', 'would', 'have', 'slept', 'soundly', 'enough', '.', '’']\n",
      "['when', 'they', 'were', 'all', 'ready', ',', 'they', 'went', 'and', 'looked', 'at', 'the', 'soldier', ';', 'but', 'he']\n",
      "['snored', 'on', ',', 'and', 'did', 'not', 'stir', 'hand', 'or', 'foot', ':', 'so', 'they', 'thought', 'they', 'were']\n",
      "['quite', 'safe', ';', 'and', 'the', 'eldest', 'went', 'up', 'to', 'her', 'own', 'bed', 'and', 'clapped', 'her', 'hands', ',']\n",
      "['and', 'the', 'bed', 'sank', 'into', 'the', 'floor', 'and', 'a', 'trap-door', 'flew', 'open', '.', 'the', 'soldier']\n",
      "['saw', 'them', 'going', 'down', 'through', 'the', 'trap-door', 'one', 'after', 'another', ',', 'the', 'eldest']\n",
      "['leading', 'the', 'way', ';', 'and', 'thinking', 'he', 'had', 'no', 'time', 'to', 'lose', ',', 'he', 'jumped', 'up', ',', 'put']\n",
      "['on', 'the', 'cloak', 'which', 'the', 'old', 'woman', 'had', 'given', 'him', ',', 'and', 'followed', 'them', ';']\n",
      "['but', 'in', 'the', 'middle', 'of', 'the', 'stairs', 'he', 'trod', 'on', 'the', 'gown', 'of', 'the', 'youngest']\n",
      "['princess', ',', 'and', 'she', 'cried', 'out', 'to', 'her', 'sisters', ',', '‘', 'all', 'is', 'not', 'right', ';', 'someone']\n",
      "['took', 'hold', 'of', 'my', 'gown.', '’', '‘', 'you', 'silly', 'creature', '!', '’', 'said', 'the', 'eldest', ',', '‘', 'it', 'is']\n",
      "['nothing', 'but', 'a', 'nail', 'in', 'the', 'wall.', '’', 'then', 'down', 'they', 'all', 'went', ',', 'and', 'at', 'the']\n",
      "['bottom', 'they', 'found', 'themselves', 'in', 'a', 'most', 'delightful', 'grove', 'of', 'trees', ';', 'and']\n",
      "['the', 'leaves', 'were', 'all', 'of', 'silver', ',', 'and', 'glittered', 'and', 'sparkled', 'beautifully', '.']\n",
      "['the', 'soldier', 'wished', 'to', 'take', 'away', 'some', 'token', 'of', 'the', 'place', ';', 'so', 'he', 'broke']\n",
      "['off', 'a', 'little', 'branch', ',', 'and', 'there', 'came', 'a', 'loud', 'noise', 'from', 'the', 'tree', '.', 'then', 'the']\n",
      "['youngest', 'daughter', 'said', 'again', ',', '‘', 'i', 'am', 'sure', 'all', 'is', 'not', 'right', '--', 'did', 'not', 'you']\n",
      "['hear', 'that', 'noise', '?', 'that', 'never', 'happened', 'before.', '’', 'but', 'the', 'eldest', 'said', ',', '‘', 'it']\n",
      "['is', 'only', 'our', 'princes', ',', 'who', 'are', 'shouting', 'for', 'joy', 'at', 'our', 'approach', '.', '’']\n",
      "['then', 'they', 'came', 'to', 'another', 'grove', 'of', 'trees', ',', 'where', 'all', 'the', 'leaves', 'were', 'of']\n",
      "['gold', ';', 'and', 'afterwards', 'to', 'a', 'third', ',', 'where', 'the', 'leaves', 'were', 'all', 'glittering']\n",
      "['diamonds', '.', 'and', 'the', 'soldier', 'broke', 'a', 'branch', 'from', 'each', ';', 'and', 'every', 'time', 'there']\n",
      "['was', 'a', 'loud', 'noise', ',', 'which', 'made', 'the', 'youngest', 'sister', 'tremble', 'with', 'fear', ';', 'but']\n",
      "['the', 'eldest', 'still', 'said', ',', 'it', 'was', 'only', 'the', 'princes', ',', 'who', 'were', 'crying', 'for', 'joy', '.']\n",
      "['so', 'they', 'went', 'on', 'till', 'they', 'came', 'to', 'a', 'great', 'lake', ';', 'and', 'at', 'the', 'side', 'of', 'the']\n",
      "['lake', 'there', 'lay', 'twelve', 'little', 'boats', 'with', 'twelve', 'handsome', 'princes', 'in', 'them', ',']\n",
      "['who', 'seemed', 'to', 'be', 'waiting', 'there', 'for', 'the', 'princesses', '.']\n",
      "['one', 'of', 'the', 'princesses', 'went', 'into', 'each', 'boat', ',', 'and', 'the', 'soldier', 'stepped', 'into']\n",
      "['the', 'same', 'boat', 'with', 'the', 'youngest', '.', 'as', 'they', 'were', 'rowing', 'over', 'the', 'lake', ',', 'the']\n",
      "['prince', 'who', 'was', 'in', 'the', 'boat', 'with', 'the', 'youngest', 'princess', 'and', 'the', 'soldier']\n",
      "['said', ',', '‘', 'i', 'do', 'not', 'know', 'why', 'it', 'is', ',', 'but', 'though', 'i', 'am', 'rowing', 'with', 'all', 'my', 'might']\n",
      "['we', 'do', 'not', 'get', 'on', 'so', 'fast', 'as', 'usual', ',', 'and', 'i', 'am', 'quite', 'tired', ':', 'the', 'boat']\n",
      "['seems', 'very', 'heavy', 'today.', '’', '‘', 'it', 'is', 'only', 'the', 'heat', 'of', 'the', 'weather', ',', '’', 'said', 'the']\n",
      "['princess', ':', '‘', 'i', 'feel', 'it', 'very', 'warm', 'too', '.', '’']\n",
      "['on', 'the', 'other', 'side', 'of', 'the', 'lake', 'stood', 'a', 'fine', 'illuminated', 'castle', ',', 'from']\n",
      "['which', 'came', 'the', 'merry', 'music', 'of', 'horns', 'and', 'trumpets', '.', 'there', 'they', 'all', 'landed', ',']\n",
      "['and', 'went', 'into', 'the', 'castle', ',', 'and', 'each', 'prince', 'danced', 'with', 'his', 'princess', ';', 'and']\n",
      "['the', 'soldier', ',', 'who', 'was', 'all', 'the', 'time', 'invisible', ',', 'danced', 'with', 'them', 'too', ';', 'and']\n",
      "['when', 'any', 'of', 'the', 'princesses', 'had', 'a', 'cup', 'of', 'wine', 'set', 'by', 'her', ',', 'he', 'drank', 'it']\n",
      "['all', 'up', ',', 'so', 'that', 'when', 'she', 'put', 'the', 'cup', 'to', 'her', 'mouth', 'it', 'was', 'empty', '.', 'at', 'this', ',']\n",
      "['too', ',', 'the', 'youngest', 'sister', 'was', 'terribly', 'frightened', ',', 'but', 'the', 'eldest', 'always']\n",
      "['silenced', 'her', '.', 'they', 'danced', 'on', 'till', 'three', 'o', '’', 'clock', 'in', 'the', 'morning', ',', 'and', 'then']\n",
      "['all', 'their', 'shoes', 'were', 'worn', 'out', ',', 'so', 'that', 'they', 'were', 'obliged', 'to', 'leave', 'off', '.']\n",
      "['the', 'princes', 'rowed', 'them', 'back', 'again', 'over', 'the', 'lake', '(', 'but', 'this', 'time', 'the']\n",
      "['soldier', 'placed', 'himself', 'in', 'the', 'boat', 'with', 'the', 'eldest', 'princess', ')', ';', 'and', 'on', 'the']\n",
      "['opposite', 'shore', 'they', 'took', 'leave', 'of', 'each', 'other', ',', 'the', 'princesses', 'promising']\n",
      "['to', 'come', 'again', 'the', 'next', 'night', '.']\n",
      "['when', 'they', 'came', 'to', 'the', 'stairs', ',', 'the', 'soldier', 'ran', 'on', 'before', 'the', 'princesses', ',']\n",
      "['and', 'laid', 'himself', 'down', ';', 'and', 'as', 'the', 'twelve', 'sisters', 'slowly', 'came', 'up', 'very']\n",
      "['much', 'tired', ',', 'they', 'heard', 'him', 'snoring', 'in', 'his', 'bed', ';', 'so', 'they', 'said', ',', '‘', 'now', 'all']\n",
      "['is', 'quite', 'safe', '’', ';', 'then', 'they', 'undressed', 'themselves', ',', 'put', 'away', 'their', 'fine']\n",
      "['clothes', ',', 'pulled', 'off', 'their', 'shoes', ',', 'and', 'went', 'to', 'bed', '.', 'in', 'the', 'morning', 'the']\n",
      "['soldier', 'said', 'nothing', 'about', 'what', 'had', 'happened', ',', 'but', 'determined', 'to', 'see', 'more']\n",
      "['of', 'this', 'strange', 'adventure', ',', 'and', 'went', 'again', 'the', 'second', 'and', 'third', 'night', ';']\n",
      "['and', 'every', 'thing', 'happened', 'just', 'as', 'before', ';', 'the', 'princesses', 'danced', 'each', 'time']\n",
      "['till', 'their', 'shoes', 'were', 'worn', 'to', 'pieces', ',', 'and', 'then', 'returned', 'home', '.', 'however', ',']\n",
      "['on', 'the', 'third', 'night', 'the', 'soldier', 'carried', 'away', 'one', 'of', 'the', 'golden', 'cups', 'as', 'a']\n",
      "['token', 'of', 'where', 'he', 'had', 'been', '.']\n",
      "['as', 'soon', 'as', 'the', 'time', 'came', 'when', 'he', 'was', 'to', 'declare', 'the', 'secret', ',', 'he', 'was', 'taken']\n",
      "['before', 'the', 'king', 'with', 'the', 'three', 'branches', 'and', 'the', 'golden', 'cup', ';', 'and', 'the']\n",
      "['twelve', 'princesses', 'stood', 'listening', 'behind', 'the', 'door', 'to', 'hear', 'what', 'he', 'would']\n",
      "['say', '.', 'and', 'when', 'the', 'king', 'asked', 'him', '.', '‘', 'where', 'do', 'my', 'twelve', 'daughters', 'dance', 'at']\n",
      "['night', '?', '’', 'he', 'answered', ',', '‘', 'with', 'twelve', 'princes', 'in', 'a', 'castle', 'under', 'ground.', '’', 'and']\n",
      "['then', 'he', 'told', 'the', 'king', 'all', 'that', 'had', 'happened', ',', 'and', 'showed', 'him', 'the', 'three']\n",
      "['branches', 'and', 'the', 'golden', 'cup', 'which', 'he', 'had', 'brought', 'with', 'him', '.', 'then', 'the', 'king']\n",
      "['called', 'for', 'the', 'princesses', ',', 'and', 'asked', 'them', 'whether', 'what', 'the', 'soldier', 'said']\n",
      "['was', 'true', ':', 'and', 'when', 'they', 'saw', 'that', 'they', 'were', 'discovered', ',', 'and', 'that', 'it', 'was']\n",
      "['of', 'no', 'use', 'to', 'deny', 'what', 'had', 'happened', ',', 'they', 'confessed', 'it', 'all', '.', 'and', 'the', 'king']\n",
      "['asked', 'the', 'soldier', 'which', 'of', 'them', 'he', 'would', 'choose', 'for', 'his', 'wife', ';', 'and', 'he']\n",
      "['answered', ',', '‘', 'i', 'am', 'not', 'very', 'young', ',', 'so', 'i', 'will', 'have', 'the', 'eldest.', '’', '--', 'and', 'they']\n",
      "['were', 'married', 'that', 'very', 'day', ',', 'and', 'the', 'soldier', 'was', 'chosen', 'to', 'be', 'the', 'king', '’', 's']\n",
      "['heir', '.']\n"
     ]
    }
   ],
   "source": [
    "#Read in the text file and token each non-empty line\n",
    "\n",
    "with open(filepath, 'r') as f:\n",
    "    for line in f:\n",
    "        getline = line.strip() #get rid of newline character\n",
    "        #print(getline)\n",
    "        if getline == '': pass  #this will skip over lines that only had a newline and are now blank\n",
    "        else:\n",
    "            #first, change all the words to lowercase then Tokenize the words\n",
    "            getline = getline.lower()\n",
    "            txtTokens = word_tokenize(getline)\n",
    "            print(txtTokens)\n",
    "            #Parse the words into the list\n",
    "            for word in txtTokens:\n",
    "                OrigText.append(word)\n",
    "\n"
   ]
  },
  {
   "cell_type": "code",
   "execution_count": 117,
   "metadata": {},
   "outputs": [
    {
     "data": {
      "text/plain": [
       "1853"
      ]
     },
     "execution_count": 117,
     "metadata": {},
     "output_type": "execute_result"
    }
   ],
   "source": [
    "#get the length of the original text after the split function\n",
    "len(OrigText)"
   ]
  },
  {
   "cell_type": "code",
   "execution_count": 118,
   "metadata": {},
   "outputs": [
    {
     "data": {
      "text/plain": [
       "'!\"#$%&\\'()*+,-./:;<=>?@[\\\\]^_`{|}~'"
      ]
     },
     "execution_count": 118,
     "metadata": {},
     "output_type": "execute_result"
    }
   ],
   "source": [
    "punctuation"
   ]
  },
  {
   "cell_type": "code",
   "execution_count": 119,
   "metadata": {},
   "outputs": [],
   "source": [
    "#redefine a new set of punctuation with regards to the given text\n",
    "new_punctuation = punctuation + '’' + '‘'"
   ]
  },
  {
   "cell_type": "code",
   "execution_count": 120,
   "metadata": {},
   "outputs": [],
   "source": [
    "#remove the puntuation tokens from the list\n",
    "for word in OrigText:\n",
    "    if word in new_punctuation:\n",
    "        OrigText.remove(word)"
   ]
  },
  {
   "cell_type": "code",
   "execution_count": 121,
   "metadata": {},
   "outputs": [],
   "source": [
    "#remove the puntuation tokens from the list\n",
    "for word in OrigText:\n",
    "    if word in new_punctuation:\n",
    "        OrigText.remove(word)"
   ]
  },
  {
   "cell_type": "code",
   "execution_count": 122,
   "metadata": {},
   "outputs": [
    {
     "data": {
      "text/plain": [
       "1615"
      ]
     },
     "execution_count": 122,
     "metadata": {},
     "output_type": "execute_result"
    }
   ],
   "source": [
    "#get the length of the original text after removing all known punctuation\n",
    "len(OrigText)"
   ]
  },
  {
   "cell_type": "code",
   "execution_count": 123,
   "metadata": {},
   "outputs": [],
   "source": [
    "#list of english stopwords (filler words)\n",
    "eng_stopwords = stopwords.words('english')\n",
    "#eng_stopwords"
   ]
  },
  {
   "cell_type": "code",
   "execution_count": 124,
   "metadata": {},
   "outputs": [],
   "source": [
    "rm_count = 0\n",
    "new_words = []  #list to hold new words\n",
    "\n",
    "for word in OrigText:\n",
    "    if word not in eng_stopwords:\n",
    "        new_words.append(word)\n",
    "    else: rm_count += 1"
   ]
  },
  {
   "cell_type": "code",
   "execution_count": 125,
   "metadata": {},
   "outputs": [
    {
     "data": {
      "text/plain": [
       "670"
      ]
     },
     "execution_count": 125,
     "metadata": {},
     "output_type": "execute_result"
    }
   ],
   "source": [
    "#get the length of the original text after removing all English filler words\n",
    "len(new_words)"
   ]
  },
  {
   "cell_type": "code",
   "execution_count": 126,
   "metadata": {},
   "outputs": [
    {
     "data": {
      "text/plain": [
       "[('soldier', 19),\n",
       " ('princesses', 17),\n",
       " ('said', 16),\n",
       " ('king', 15),\n",
       " ('twelve', 11),\n",
       " ('went', 11),\n",
       " ('came', 10),\n",
       " ('eldest', 10),\n",
       " ('one', 7),\n",
       " ('night', 7)]"
      ]
     },
     "execution_count": 126,
     "metadata": {},
     "output_type": "execute_result"
    }
   ],
   "source": [
    "#the NLTK FreqDist library function gives a count for how often each part of the text occurs ...in this case only 10 words\n",
    "fd_nw = FreqDist(new_words)\n",
    "fd_nw.most_common(10)"
   ]
  },
  {
   "cell_type": "code",
   "execution_count": null,
   "metadata": {},
   "outputs": [],
   "source": []
  },
  {
   "cell_type": "code",
   "execution_count": null,
   "metadata": {},
   "outputs": [],
   "source": []
  }
 ],
 "metadata": {
  "kernelspec": {
   "display_name": "Python 3",
   "language": "python",
   "name": "python3"
  },
  "language_info": {
   "codemirror_mode": {
    "name": "ipython",
    "version": 3
   },
   "file_extension": ".py",
   "mimetype": "text/x-python",
   "name": "python",
   "nbconvert_exporter": "python",
   "pygments_lexer": "ipython3",
   "version": "3.7.1"
  }
 },
 "nbformat": 4,
 "nbformat_minor": 2
}
