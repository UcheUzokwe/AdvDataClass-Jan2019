{
 "cells": [
  {
   "cell_type": "markdown",
   "metadata": {},
   "source": [
    "### Using an API with a Key\n",
    "Go to the New York Times developer website and register to request an API key. Create an app that uses the Books API in order to get an API key. Once you have an API, write a program in your Jupyter notebook that gets the books from the current NYT Bestsellers list. You will need this URL to get to the current JSON list:\n",
    "Then extract the following information from the API for each book and turn it into a data frame.\n",
    "\n",
    "    primary ISBN10\n",
    "    primary ISBN13\n",
    "    title\n",
    "    author\n",
    "    rank\n",
    "    last week's rank\n",
    "    number of weeks on the list\n",
    "    price\n",
    "    description\n",
    "    publisher\n",
    "    book image\n"
   ]
  },
  {
   "cell_type": "code",
   "execution_count": 93,
   "metadata": {},
   "outputs": [],
   "source": [
    "import requests\n",
    "import json\n",
    "import time  #library used to get current time\n",
    "import pandas as pd"
   ]
  },
  {
   "cell_type": "code",
   "execution_count": 94,
   "metadata": {},
   "outputs": [],
   "source": [
    "#create a text file that contains your API key\n",
    "#you DO NOT want others to see your API key\n",
    "#this method is not the most secure but will work for this exercise\n",
    "\n",
    "#this will read the file and store your API key as a variable\n",
    "with open('Bookskey.txt', 'r') as file:\n",
    "    for line in file:\n",
    "        api_key = line"
   ]
  },
  {
   "cell_type": "code",
   "execution_count": 95,
   "metadata": {},
   "outputs": [],
   "source": [
    "#sandbox database to practice getting data from their API\n",
    "url = r\"https://api.nytimes.com/svc/books/v3/lists/current/hardcover-fiction.json?api-key=\""
   ]
  },
  {
   "cell_type": "code",
   "execution_count": 96,
   "metadata": {},
   "outputs": [],
   "source": [
    "#in the request to the website, give it the url and add the API key at the end\n",
    "response = requests.get(url+api_key)"
   ]
  },
  {
   "cell_type": "code",
   "execution_count": 97,
   "metadata": {},
   "outputs": [
    {
     "data": {
      "text/plain": [
       "<Response [200]>"
      ]
     },
     "execution_count": 97,
     "metadata": {},
     "output_type": "execute_result"
    }
   ],
   "source": [
    "#if status code is 200, then this is good :-)!\n",
    "response"
   ]
  },
  {
   "cell_type": "code",
   "execution_count": 98,
   "metadata": {},
   "outputs": [
    {
     "data": {
      "text/plain": [
       "'{\"status\":\"OK\",\"copyright\":\"Copyright (c) 2019 The New York Times Company.  All Rights Reserved.\",\"num_results\":15,\"last_modified\":\"2019-02-13T23:38:02-05:00\",\"results\":{\"list_name\":\"Hardcover Fiction\",\"list_name_encoded\":\"hardcover-fiction\",\"bestsellers_date\":\"2019-02-09\",\"published_date\":\"2019-02-24\",\"published_date_description\":\"latest\",\"next_published_date\":\"\",\"previous_published_date\":\"2019-02-17\",\"display_name\":\"Hardcover Fiction\",\"normal_list_ends_at\":15,\"updated\":\"WEEKLY\",\"books\":[{\"rank\":1,\"rank_last_week\":0,\"weeks_on_list\":1,\"asterisk\":0,\"dagger\":0,\"primary_isbn10\":\"1250301696\",\"primary_isbn13\":\"9781250301697\",\"publisher\":\"Celadon\",\"description\":\"Theo Faber looks into the mystery of a famous painter who stops speaking after shooting her husband.\",\"price\":0,\"title\":\"THE SILENT PATIENT\",\"author\":\"Alex Michaelides\",\"contributor\":\"by Alex Michaelides\",\"contributor_note\":\"\",\"book_image\":\"https:\\\\/\\\\/s1.nyt.com\\\\/du\\\\/books\\\\/images\\\\/9781250301697.jpg\",\"book_image_width\":326,\"book_image'"
      ]
     },
     "execution_count": 98,
     "metadata": {},
     "output_type": "execute_result"
    }
   ],
   "source": [
    "#this is the JSON string data from the API\n",
    "response.text[:1000]     #display first 1000 characters for testing purpose"
   ]
  },
  {
   "cell_type": "code",
   "execution_count": 99,
   "metadata": {},
   "outputs": [],
   "source": [
    "#set the string data to a variable\n",
    "str_book = response.text"
   ]
  },
  {
   "cell_type": "code",
   "execution_count": 100,
   "metadata": {},
   "outputs": [],
   "source": [
    "#load in the string data as JSON\n",
    "bookdata = json.loads(str_book)"
   ]
  },
  {
   "cell_type": "code",
   "execution_count": null,
   "metadata": {},
   "outputs": [],
   "source": [
    "#to see all the JSON data from the API\n",
    "bookdata"
   ]
  },
  {
   "cell_type": "code",
   "execution_count": 102,
   "metadata": {},
   "outputs": [
    {
     "data": {
      "text/plain": [
       "dict"
      ]
     },
     "execution_count": 102,
     "metadata": {},
     "output_type": "execute_result"
    }
   ],
   "source": [
    "#bookdata is a dictionary, so we can access the 1st layer by using keys\n",
    "type(bookdata)"
   ]
  },
  {
   "cell_type": "code",
   "execution_count": 103,
   "metadata": {},
   "outputs": [
    {
     "data": {
      "text/plain": [
       "dict_keys(['status', 'copyright', 'num_results', 'last_modified', 'results'])"
      ]
     },
     "execution_count": 103,
     "metadata": {},
     "output_type": "execute_result"
    }
   ],
   "source": [
    "#check to see what keys are in the 1st layer of the JSON\n",
    "bookdata.keys()"
   ]
  },
  {
   "cell_type": "code",
   "execution_count": 104,
   "metadata": {},
   "outputs": [
    {
     "data": {
      "text/plain": [
       "dict_keys(['list_name', 'list_name_encoded', 'bestsellers_date', 'published_date', 'published_date_description', 'next_published_date', 'previous_published_date', 'display_name', 'normal_list_ends_at', 'updated', 'books', 'corrections'])"
      ]
     },
     "execution_count": 104,
     "metadata": {},
     "output_type": "execute_result"
    }
   ],
   "source": [
    "#see what is in the next layer from the key 'results'\n",
    "bookdata['results'].keys()"
   ]
  },
  {
   "cell_type": "code",
   "execution_count": 105,
   "metadata": {},
   "outputs": [],
   "source": [
    "#set list of books to variable\n",
    "#myBooks = []\n",
    "myBooks = bookdata['results']['books']"
   ]
  },
  {
   "cell_type": "code",
   "execution_count": 106,
   "metadata": {},
   "outputs": [
    {
     "data": {
      "text/plain": [
       "list"
      ]
     },
     "execution_count": 106,
     "metadata": {},
     "output_type": "execute_result"
    }
   ],
   "source": [
    "#the value for the data key contains a list\n",
    "type(myBooks)"
   ]
  },
  {
   "cell_type": "code",
   "execution_count": 107,
   "metadata": {},
   "outputs": [
    {
     "data": {
      "text/plain": [
       "[{'rank': 1,\n",
       "  'rank_last_week': 0,\n",
       "  'weeks_on_list': 1,\n",
       "  'asterisk': 0,\n",
       "  'dagger': 0,\n",
       "  'primary_isbn10': '1250301696',\n",
       "  'primary_isbn13': '9781250301697',\n",
       "  'publisher': 'Celadon',\n",
       "  'description': 'Theo Faber looks into the mystery of a famous painter who stops speaking after shooting her husband.',\n",
       "  'price': 0,\n",
       "  'title': 'THE SILENT PATIENT',\n",
       "  'author': 'Alex Michaelides',\n",
       "  'contributor': 'by Alex Michaelides',\n",
       "  'contributor_note': '',\n",
       "  'book_image': 'https://s1.nyt.com/du/books/images/9781250301697.jpg',\n",
       "  'book_image_width': 326,\n",
       "  'book_image_height': 495,\n",
       "  'amazon_product_url': 'https://www.amazon.com/Silent-Patient-Alex-Michaelides/dp/1250301696?tag=NYTBS-20',\n",
       "  'age_group': '',\n",
       "  'book_review_link': '',\n",
       "  'first_chapter_link': '',\n",
       "  'sunday_review_link': '',\n",
       "  'article_chapter_link': '',\n",
       "  'isbns': [{'isbn10': '1250301696', 'isbn13': '9781250301697'},\n",
       "   {'isbn10': '1250301718', 'isbn13': '9781250301710'}],\n",
       "  'buy_links': [{'name': 'Local Booksellers',\n",
       "    'url': 'http://www.indiebound.org/book/9781250301697?aff=NYT'},\n",
       "   {'name': 'Barnes and Noble',\n",
       "    'url': 'http://www.anrdoezrs.net/click-7990613-11819508?url=http%3A%2F%2Fwww.barnesandnoble.com%2Fw%2F%3Fean%3D9781250301697'},\n",
       "   {'name': 'Amazon',\n",
       "    'url': 'https://www.amazon.com/Silent-Patient-Alex-Michaelides/dp/1250301696?tag=NYTBS-20'}]}]"
      ]
     },
     "execution_count": 107,
     "metadata": {},
     "output_type": "execute_result"
    }
   ],
   "source": [
    "#sample to see what an item in the list looks like\n",
    "#use 1st item in the list as sample\n",
    "#item is a dictionary\n",
    "#seems to be the info for a book\n",
    "myBooks[:1]   #just show only 1 dataset for testing purpose"
   ]
  },
  {
   "cell_type": "code",
   "execution_count": 108,
   "metadata": {},
   "outputs": [],
   "source": [
    "#create empty lists to extract data\n",
    "\n",
    "isbn10 = [] #\n",
    "isbn13 = [] #\n",
    "title = [] #\n",
    "author = [] #\n",
    "rank = [] #\n",
    "last_week = [] #\n",
    "number_of_weeks = [] #\n",
    "price = [] #\n",
    "description = [] #description of the book\n",
    "publisher = [] #\n",
    "book_image = [] #\n"
   ]
  },
  {
   "cell_type": "code",
   "execution_count": 109,
   "metadata": {},
   "outputs": [],
   "source": [
    "#This is the main book list.\n",
    "BookList = []"
   ]
  },
  {
   "cell_type": "code",
   "execution_count": 110,
   "metadata": {},
   "outputs": [],
   "source": [
    "#fill temporal lists with data - clean out invalid values\n",
    "\n",
    "for book in myBooks:\n",
    "    \n",
    "    try: isbn10 = book['primary_isbn10']\n",
    "    except: isbn10 = None\n",
    "    \n",
    "    try: isbn13 = book['primary_isbn13']\n",
    "    except: isbn13 = None\n",
    "    \n",
    "    try: title = book['title']\n",
    "    except: title = None\n",
    "    \n",
    "    try: author = book['author']\n",
    "    except: author = None        \n",
    "    \n",
    "    try: rank = book['rank']\n",
    "    except: rank = None\n",
    "    \n",
    "    try: last_week = book['rank_last_week']\n",
    "    except: last_week = None    \n",
    "    \n",
    "    try: number_of_weeks = book['weeks_on_list']\n",
    "    except: number_of_weeks = None\n",
    "    \n",
    "    try: price = book['price']\n",
    "    except: price = None\n",
    "    \n",
    "    try: description = book['description']\n",
    "    except: description = None        \n",
    "    \n",
    "    try: publisher = book['publisher']\n",
    "    except: publisher = None\n",
    "    \n",
    "    try: book_image = book['book_image']\n",
    "    except: book_image = None\n",
    "    \n",
    "    #Create a ad hoc list to hold each set of data.\n",
    "    tempList = []\n",
    "    \n",
    "    tempList.append(isbn10)\n",
    "    tempList.append(isbn13)\n",
    "    tempList.append(title)\n",
    "    tempList.append(author)    \n",
    "    tempList.append(rank)\n",
    "    tempList.append(last_week)\n",
    "    tempList.append(number_of_weeks)\n",
    "    tempList.append(price)  \n",
    "    tempList.append(description)\n",
    "    tempList.append(publisher)\n",
    "    tempList.append(book_image)\n",
    "    \n",
    "    #store the each dataset into main book list & repeated the FOR...LOOP\n",
    "    BookList.append(tempList)\n",
    "\n"
   ]
  },
  {
   "cell_type": "code",
   "execution_count": 111,
   "metadata": {},
   "outputs": [
    {
     "data": {
      "text/html": [
       "<div>\n",
       "<style scoped>\n",
       "    .dataframe tbody tr th:only-of-type {\n",
       "        vertical-align: middle;\n",
       "    }\n",
       "\n",
       "    .dataframe tbody tr th {\n",
       "        vertical-align: top;\n",
       "    }\n",
       "\n",
       "    .dataframe thead th {\n",
       "        text-align: right;\n",
       "    }\n",
       "</style>\n",
       "<table border=\"1\" class=\"dataframe\">\n",
       "  <thead>\n",
       "    <tr style=\"text-align: right;\">\n",
       "      <th></th>\n",
       "      <th>Primary ISBN10</th>\n",
       "      <th>Primary ISBN13</th>\n",
       "      <th>Title</th>\n",
       "      <th>Author</th>\n",
       "      <th>Rank</th>\n",
       "      <th>Last Week's Rank</th>\n",
       "      <th>Number Of Weeks On The List</th>\n",
       "      <th>Price</th>\n",
       "      <th>Description</th>\n",
       "      <th>Publisher</th>\n",
       "      <th>Book Image</th>\n",
       "    </tr>\n",
       "  </thead>\n",
       "  <tbody>\n",
       "    <tr>\n",
       "      <th>0</th>\n",
       "      <td>1250301696</td>\n",
       "      <td>9781250301697</td>\n",
       "      <td>THE SILENT PATIENT</td>\n",
       "      <td>Alex Michaelides</td>\n",
       "      <td>1</td>\n",
       "      <td>0</td>\n",
       "      <td>1</td>\n",
       "      <td>0</td>\n",
       "      <td>Theo Faber looks into the mystery of a famous ...</td>\n",
       "      <td>Celadon</td>\n",
       "      <td>https://s1.nyt.com/du/books/images/97812503016...</td>\n",
       "    </tr>\n",
       "    <tr>\n",
       "      <th>1</th>\n",
       "      <td>0735219095</td>\n",
       "      <td>9780735219090</td>\n",
       "      <td>WHERE THE CRAWDADS SING</td>\n",
       "      <td>Delia Owens</td>\n",
       "      <td>2</td>\n",
       "      <td>1</td>\n",
       "      <td>23</td>\n",
       "      <td>0</td>\n",
       "      <td>A woman who survived alone in the marsh become...</td>\n",
       "      <td>Putnam</td>\n",
       "      <td>https://s1.nyt.com/du/books/images/97807352190...</td>\n",
       "    </tr>\n",
       "    <tr>\n",
       "      <th>2</th>\n",
       "      <td>1250201578</td>\n",
       "      <td>9781250201577</td>\n",
       "      <td>CONNECTIONS IN DEATH</td>\n",
       "      <td>JD Robb</td>\n",
       "      <td>3</td>\n",
       "      <td>0</td>\n",
       "      <td>1</td>\n",
       "      <td>0</td>\n",
       "      <td>Eve Dallas scours tattoo parlors and strip joi...</td>\n",
       "      <td>St. Martin's</td>\n",
       "      <td>https://s1.nyt.com/du/books/images/97812502015...</td>\n",
       "    </tr>\n",
       "    <tr>\n",
       "      <th>3</th>\n",
       "      <td>0735220174</td>\n",
       "      <td>9780735220171</td>\n",
       "      <td>BLACK LEOPARD, RED WOLF</td>\n",
       "      <td>Marlon James</td>\n",
       "      <td>4</td>\n",
       "      <td>0</td>\n",
       "      <td>1</td>\n",
       "      <td>0</td>\n",
       "      <td>A loner named Tracker teams up with a group of...</td>\n",
       "      <td>Riverhead</td>\n",
       "      <td>https://s1.nyt.com/du/books/images/97807352201...</td>\n",
       "    </tr>\n",
       "    <tr>\n",
       "      <th>4</th>\n",
       "      <td>0399563245</td>\n",
       "      <td>9780399563249</td>\n",
       "      <td>DEVOTIONS</td>\n",
       "      <td>Mary Oliver</td>\n",
       "      <td>5</td>\n",
       "      <td>10</td>\n",
       "      <td>2</td>\n",
       "      <td>0</td>\n",
       "      <td>A collection of more than 200 poems spanning 5...</td>\n",
       "      <td>Penguin Press</td>\n",
       "      <td>https://s1.nyt.com/du/books/images/97803995632...</td>\n",
       "    </tr>\n",
       "  </tbody>\n",
       "</table>\n",
       "</div>"
      ],
      "text/plain": [
       "  Primary ISBN10 Primary ISBN13                    Title            Author  \\\n",
       "0     1250301696  9781250301697       THE SILENT PATIENT  Alex Michaelides   \n",
       "1     0735219095  9780735219090  WHERE THE CRAWDADS SING       Delia Owens   \n",
       "2     1250201578  9781250201577     CONNECTIONS IN DEATH           JD Robb   \n",
       "3     0735220174  9780735220171  BLACK LEOPARD, RED WOLF      Marlon James   \n",
       "4     0399563245  9780399563249                DEVOTIONS       Mary Oliver   \n",
       "\n",
       "   Rank  Last Week's Rank  Number Of Weeks On The List  Price  \\\n",
       "0     1                 0                            1      0   \n",
       "1     2                 1                           23      0   \n",
       "2     3                 0                            1      0   \n",
       "3     4                 0                            1      0   \n",
       "4     5                10                            2      0   \n",
       "\n",
       "                                         Description      Publisher  \\\n",
       "0  Theo Faber looks into the mystery of a famous ...        Celadon   \n",
       "1  A woman who survived alone in the marsh become...         Putnam   \n",
       "2  Eve Dallas scours tattoo parlors and strip joi...   St. Martin's   \n",
       "3  A loner named Tracker teams up with a group of...      Riverhead   \n",
       "4  A collection of more than 200 poems spanning 5...  Penguin Press   \n",
       "\n",
       "                                          Book Image  \n",
       "0  https://s1.nyt.com/du/books/images/97812503016...  \n",
       "1  https://s1.nyt.com/du/books/images/97807352190...  \n",
       "2  https://s1.nyt.com/du/books/images/97812502015...  \n",
       "3  https://s1.nyt.com/du/books/images/97807352201...  \n",
       "4  https://s1.nyt.com/du/books/images/97803995632...  "
      ]
     },
     "execution_count": 111,
     "metadata": {},
     "output_type": "execute_result"
    }
   ],
   "source": [
    "#make list into a dataframe\n",
    "\n",
    "colnames = ['Primary ISBN10', 'Primary ISBN13', 'Title', 'Author', \n",
    "            'Rank', 'Last Week\\'s Rank', 'Number Of Weeks On The List',\n",
    "            'Price','Description','Publisher','Book Image']\n",
    "\n",
    "df = pd.DataFrame(BookList, columns=colnames)\n",
    "\n",
    "df.head(5)    #display first 5 rows"
   ]
  },
  {
   "cell_type": "code",
   "execution_count": null,
   "metadata": {},
   "outputs": [],
   "source": []
  }
 ],
 "metadata": {
  "kernelspec": {
   "display_name": "Python 3",
   "language": "python",
   "name": "python3"
  },
  "language_info": {
   "codemirror_mode": {
    "name": "ipython",
    "version": 3
   },
   "file_extension": ".py",
   "mimetype": "text/x-python",
   "name": "python",
   "nbconvert_exporter": "python",
   "pygments_lexer": "ipython3",
   "version": "3.7.1"
  }
 },
 "nbformat": 4,
 "nbformat_minor": 2
}
