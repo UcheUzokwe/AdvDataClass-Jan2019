{
 "cells": [
  {
   "cell_type": "markdown",
   "metadata": {},
   "source": [
    "# Get Data Using API - no key\n",
    "\n",
    "API stands for Application Programming Interface. On a basic level, it allows a user to \"talk\" to another server and request information. The API receives the request and responds back with the information."
   ]
  },
  {
   "cell_type": "code",
   "execution_count": 287,
   "metadata": {},
   "outputs": [],
   "source": [
    "import requests  #similar to urllib, this library allows a computer to ping a website\n",
    "import json      #library to handle JSON formatted data\n",
    "import pandas as pd  #library to handle the dataframe"
   ]
  },
  {
   "cell_type": "markdown",
   "metadata": {},
   "source": [
    "### NASA Earth Meteorite Landings\n",
    "\n",
    "Use the URL from NASA's Open Data Portal (https://data.nasa.gov/Space-Science/Meteorite-Landings/gh4g-9sfh). API to request data and bring it in as JSON. Then extract the following features from that data to create a dataframe(columns should be in the order listed below):\n",
    "    ID\n",
    "    Year\n",
    "    Fall\n",
    "    Name\n",
    "    Name Type\n",
    "    Mass\n",
    "    Latitude\n",
    "    Longitude\n",
    "    Type"
   ]
  },
  {
   "cell_type": "code",
   "execution_count": 288,
   "metadata": {},
   "outputs": [],
   "source": [
    "#URL to TVMaze API\n",
    "url = r\"https://data.nasa.gov/resource/y77d-th95.json\""
   ]
  },
  {
   "cell_type": "code",
   "execution_count": 289,
   "metadata": {},
   "outputs": [
    {
     "data": {
      "text/plain": [
       "<Response [200]>"
      ]
     },
     "execution_count": 289,
     "metadata": {},
     "output_type": "execute_result"
    }
   ],
   "source": [
    "#the get function checks to make sure that the website/server is responding back\n",
    "#200 means that we're good\n",
    "#https://www.restapitutorial.com/httpstatuscodes.html\n",
    "resp = requests.get(url)\n",
    "resp"
   ]
  },
  {
   "cell_type": "code",
   "execution_count": 307,
   "metadata": {},
   "outputs": [
    {
     "data": {
      "text/plain": [
       "'[{\"fall\":\"Fell\",\"geolocation\":{\"type\":\"Point\",\"coordinates\":[6.08333,50.775]},\"id\":\"1\",\"mass\":\"21\",\"name\":\"Aachen\",\"nametype\":\"Valid\",\"recclass\":\"L5\",\"reclat\":\"50.775000\",\"reclong\":\"6.083330\",\"year\":\"1880-01-01T00:00:00.000\"}\\n,{\"fall\":\"Fell\",\"geolocation\":{\"type\":\"Point\",\"coordinates\":[10.23333,56.18333]},\"id\":\"2\",\"mass\":\"720\",\"name\":\"Aarhus\",\"nametype\":\"Valid\",\"recclass\":\"H6\",\"reclat\":\"56.183330\",\"reclong\":\"10.233330\",\"year\":\"1951-01-01T00:00:00.000\"}\\n,{\"fall\":\"Fell\",\"geolocation\":{\"type\":\"Point\",\"coordinates\":[-113,54.21667]},\"id\":\"6\",\"mass\":\"107000\",\"name\":\"Abee\",\"nametype\":\"Valid\",\"recclass\":\"EH4\",\"reclat\":\"54.216670\",\"reclong\":\"-113.000000\",\"year\":\"1952-01-01T00:00:00.000\"}\\n,{\"fall\":\"Fell\",\"geolocation\":{\"type\":\"Point\",\"coordinates\":[-99.9,16.88333]},\"id\":\"10\",\"mass\":\"1914\",\"name\":\"Acapulco\",\"nametype\":\"Valid\",\"recclass\":\"Acapulcoite\",\"reclat\":\"16.883330\",\"reclong\":\"-99.900000\",\"year\":\"1976-01-01T00:00:00.000\"}\\n,{\"fall\":\"Fell\",\"geolocation\":{\"type\":\"Point\",\"coordinates\":[-64.95,-3'"
      ]
     },
     "execution_count": 307,
     "metadata": {},
     "output_type": "execute_result"
    }
   ],
   "source": [
    "#send a request to the website to return back text data from the API\n",
    "#returns data as JSON string\n",
    "str_data = resp.text\n",
    "\n",
    "str_data[:1000]  #display first 1000 characters"
   ]
  },
  {
   "cell_type": "code",
   "execution_count": 308,
   "metadata": {},
   "outputs": [],
   "source": [
    "#loads function reversed dictionary order\n",
    "#dictionary objects are unordered in general\n",
    "NASAdata = json.loads(str_data)\n"
   ]
  },
  {
   "cell_type": "code",
   "execution_count": 309,
   "metadata": {},
   "outputs": [
    {
     "data": {
      "text/plain": [
       "list"
      ]
     },
     "execution_count": 309,
     "metadata": {},
     "output_type": "execute_result"
    }
   ],
   "source": [
    "#verify that JSON object is one big dictionary\n",
    "type(NASAdata)"
   ]
  },
  {
   "cell_type": "code",
   "execution_count": 310,
   "metadata": {},
   "outputs": [
    {
     "data": {
      "text/plain": [
       "[{'fall': 'Fell',\n",
       "  'geolocation': {'type': 'Point', 'coordinates': [6.08333, 50.775]},\n",
       "  'id': '1',\n",
       "  'mass': '21',\n",
       "  'name': 'Aachen',\n",
       "  'nametype': 'Valid',\n",
       "  'recclass': 'L5',\n",
       "  'reclat': '50.775000',\n",
       "  'reclong': '6.083330',\n",
       "  'year': '1880-01-01T00:00:00.000'}]"
      ]
     },
     "execution_count": 310,
     "metadata": {},
     "output_type": "execute_result"
    }
   ],
   "source": [
    "#display the fisrt record item in the list\n",
    "NASAdata[:1]"
   ]
  },
  {
   "cell_type": "code",
   "execution_count": 312,
   "metadata": {},
   "outputs": [
    {
     "data": {
      "text/plain": [
       "{'type': 'Point', 'coordinates': [6.08333, 50.775]}"
      ]
     },
     "execution_count": 312,
     "metadata": {},
     "output_type": "execute_result"
    }
   ],
   "source": [
    "#display next level keys in the JSON object as per above\n",
    "geolist = NASAdata[0]['geolocation']\n",
    "geolist"
   ]
  },
  {
   "cell_type": "code",
   "execution_count": 315,
   "metadata": {},
   "outputs": [
    {
     "name": "stdout",
     "output_type": "stream",
     "text": [
      "[\n",
      "    {\n",
      "        \"fall\": \"Fell\",\n",
      "        \"geolocation\": {\n",
      "            \"type\": \"Point\",\n",
      "            \"coordinates\": [\n",
      "                6.08333,\n",
      "                50.775\n",
      "            ]\n",
      "        },\n",
      "        \"id\": \"1\",\n",
      "        \"mass\": \"21\",\n",
      "        \"name\": \"Aachen\",\n",
      "        \"nametype\": \"Valid\",\n",
      "        \"recclass\": \"L5\",\n",
      "        \"reclat\": \"50.775000\",\n",
      "        \"reclong\": \"6.083330\",\n",
      "        \"year\": \"1880-01-01T00:00:00.000\"\n",
      "    },\n",
      "    {\n",
      "        \"fall\": \"Fell\",\n",
      "        \"geolocation\": {\n",
      "            \"type\": \"Point\",\n",
      "            \"coordinates\": [\n",
      "                10.23333,\n",
      "                56.18333\n",
      "            ]\n",
      "        },\n",
      "        \"id\": \"2\",\n",
      "        \"mass\": \"720\",\n",
      "        \"name\": \"Aarhus\",\n",
      "        \"nametype\": \"Valid\",\n",
      "        \"recclass\": \"H6\",\n",
      "        \"reclat\": \"56.183330\",\n",
      "        \"reclong\": \"10.233330\",\n",
      "        \"year\": \"1951-01-01T00:00:00.000\"\n",
      "    }\n",
      "]\n"
     ]
    }
   ],
   "source": [
    "#dumps function reverses order again\n",
    "#can currently see correct order of objects\n",
    "print(json.dumps(NASAdata[:2],indent=4))     # display only 2 records as sample"
   ]
  },
  {
   "cell_type": "code",
   "execution_count": 297,
   "metadata": {},
   "outputs": [],
   "source": [
    "#set empty lists to hold each feature's information as per above\n",
    "\n",
    "ID = []\n",
    "Year = []\n",
    "Fall = []\n",
    "Name = []\n",
    "Name_Type = []\n",
    "Mass = []\n",
    "Latitude = []\n",
    "Longitude = []\n",
    "Type = []\n"
   ]
  },
  {
   "cell_type": "code",
   "execution_count": 317,
   "metadata": {},
   "outputs": [],
   "source": [
    "#fill lists with data while checking for errors/exceptions in data/fields\n",
    "\n",
    "#Create a list to hold all parsed data\n",
    "NASAList = []\n",
    "\n",
    "\n",
    "for NASAd in NASAdata:\n",
    "    \n",
    "    try: ID = NASAd['id']\n",
    "    except: ID = None\n",
    "    \n",
    "    try: Year = NASAd['year']\n",
    "    except: Year = None        \n",
    "    \n",
    "    try: Fall = NASAd['fall']\n",
    "    except: Fall = None\n",
    "\n",
    "    try: Name = NASAd['name']\n",
    "    except: Name = None\n",
    "\n",
    "    try: Name_Type = NASAd['nametype']\n",
    "    except: Name_Type = None\n",
    "    \n",
    "    try: Mass = NASAd['mass']\n",
    "    except: Mass = None        \n",
    "    \n",
    "    try: Latitude = NASAd['reclat']\n",
    "    except: Latitude = None\n",
    "\n",
    "    try: Longitude = NASAd['reclong']\n",
    "    except: Longitude = None\n",
    "        \n",
    "    try: Type = NASAd['geolocation']['type']\n",
    "    except: Type = None        \n",
    "        \n",
    "    #Create a ad hoc list to hold each set of data.\n",
    "    tempList = []\n",
    "    tempList.append(ID)\n",
    "    tempList.append(Year)\n",
    "    tempList.append(Fall)\n",
    "    tempList.append(Name)    \n",
    "    tempList.append(Name_Type)\n",
    "    tempList.append(Mass)\n",
    "    tempList.append(Latitude)\n",
    "    tempList.append(Longitude)  \n",
    "    tempList.append(Type)\n",
    "    \n",
    "    #store each dataset into main NASA list & repeated the FOR...LOOP\n",
    "    NASAList.append(tempList)"
   ]
  },
  {
   "cell_type": "code",
   "execution_count": 319,
   "metadata": {},
   "outputs": [
    {
     "data": {
      "text/html": [
       "<div>\n",
       "<style scoped>\n",
       "    .dataframe tbody tr th:only-of-type {\n",
       "        vertical-align: middle;\n",
       "    }\n",
       "\n",
       "    .dataframe tbody tr th {\n",
       "        vertical-align: top;\n",
       "    }\n",
       "\n",
       "    .dataframe thead th {\n",
       "        text-align: right;\n",
       "    }\n",
       "</style>\n",
       "<table border=\"1\" class=\"dataframe\">\n",
       "  <thead>\n",
       "    <tr style=\"text-align: right;\">\n",
       "      <th></th>\n",
       "      <th>ID</th>\n",
       "      <th>Year</th>\n",
       "      <th>Fall</th>\n",
       "      <th>Name</th>\n",
       "      <th>Name_Type</th>\n",
       "      <th>Mass</th>\n",
       "      <th>Latitude</th>\n",
       "      <th>Longitude</th>\n",
       "      <th>Type</th>\n",
       "    </tr>\n",
       "  </thead>\n",
       "  <tbody>\n",
       "    <tr>\n",
       "      <th>0</th>\n",
       "      <td>1</td>\n",
       "      <td>1880-01-01T00:00:00.000</td>\n",
       "      <td>Fell</td>\n",
       "      <td>Aachen</td>\n",
       "      <td>Valid</td>\n",
       "      <td>21</td>\n",
       "      <td>50.775000</td>\n",
       "      <td>6.083330</td>\n",
       "      <td>Point</td>\n",
       "    </tr>\n",
       "    <tr>\n",
       "      <th>1</th>\n",
       "      <td>2</td>\n",
       "      <td>1951-01-01T00:00:00.000</td>\n",
       "      <td>Fell</td>\n",
       "      <td>Aarhus</td>\n",
       "      <td>Valid</td>\n",
       "      <td>720</td>\n",
       "      <td>56.183330</td>\n",
       "      <td>10.233330</td>\n",
       "      <td>Point</td>\n",
       "    </tr>\n",
       "    <tr>\n",
       "      <th>2</th>\n",
       "      <td>6</td>\n",
       "      <td>1952-01-01T00:00:00.000</td>\n",
       "      <td>Fell</td>\n",
       "      <td>Abee</td>\n",
       "      <td>Valid</td>\n",
       "      <td>107000</td>\n",
       "      <td>54.216670</td>\n",
       "      <td>-113.000000</td>\n",
       "      <td>Point</td>\n",
       "    </tr>\n",
       "    <tr>\n",
       "      <th>3</th>\n",
       "      <td>10</td>\n",
       "      <td>1976-01-01T00:00:00.000</td>\n",
       "      <td>Fell</td>\n",
       "      <td>Acapulco</td>\n",
       "      <td>Valid</td>\n",
       "      <td>1914</td>\n",
       "      <td>16.883330</td>\n",
       "      <td>-99.900000</td>\n",
       "      <td>Point</td>\n",
       "    </tr>\n",
       "    <tr>\n",
       "      <th>4</th>\n",
       "      <td>370</td>\n",
       "      <td>1902-01-01T00:00:00.000</td>\n",
       "      <td>Fell</td>\n",
       "      <td>Achiras</td>\n",
       "      <td>Valid</td>\n",
       "      <td>780</td>\n",
       "      <td>-33.166670</td>\n",
       "      <td>-64.950000</td>\n",
       "      <td>Point</td>\n",
       "    </tr>\n",
       "  </tbody>\n",
       "</table>\n",
       "</div>"
      ],
      "text/plain": [
       "    ID                     Year  Fall      Name Name_Type    Mass    Latitude  \\\n",
       "0    1  1880-01-01T00:00:00.000  Fell    Aachen     Valid      21   50.775000   \n",
       "1    2  1951-01-01T00:00:00.000  Fell    Aarhus     Valid     720   56.183330   \n",
       "2    6  1952-01-01T00:00:00.000  Fell      Abee     Valid  107000   54.216670   \n",
       "3   10  1976-01-01T00:00:00.000  Fell  Acapulco     Valid    1914   16.883330   \n",
       "4  370  1902-01-01T00:00:00.000  Fell   Achiras     Valid     780  -33.166670   \n",
       "\n",
       "     Longitude   Type  \n",
       "0     6.083330  Point  \n",
       "1    10.233330  Point  \n",
       "2  -113.000000  Point  \n",
       "3   -99.900000  Point  \n",
       "4   -64.950000  Point  "
      ]
     },
     "execution_count": 319,
     "metadata": {},
     "output_type": "execute_result"
    }
   ],
   "source": [
    "#make list into a dataframe and create the associated colum names\n",
    "\n",
    "colnames = ['ID', 'Year', 'Fall', 'Name', \n",
    "            'Name_Type', 'Mass', 'Latitude',\n",
    "            'Longitude','Type']\n",
    "\n",
    "df = pd.DataFrame(NASAList, columns=colnames)\n",
    "\n",
    "df.head(5)    #display first 5 rows"
   ]
  },
  {
   "cell_type": "code",
   "execution_count": null,
   "metadata": {},
   "outputs": [],
   "source": []
  }
 ],
 "metadata": {
  "kernelspec": {
   "display_name": "Python 3",
   "language": "python",
   "name": "python3"
  },
  "language_info": {
   "codemirror_mode": {
    "name": "ipython",
    "version": 3
   },
   "file_extension": ".py",
   "mimetype": "text/x-python",
   "name": "python",
   "nbconvert_exporter": "python",
   "pygments_lexer": "ipython3",
   "version": "3.7.1"
  }
 },
 "nbformat": 4,
 "nbformat_minor": 2
}
