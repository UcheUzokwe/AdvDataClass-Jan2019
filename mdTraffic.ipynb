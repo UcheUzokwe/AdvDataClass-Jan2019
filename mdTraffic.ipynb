{
 "cells": [
  {
   "cell_type": "markdown",
   "metadata": {},
   "source": [
    "# Read JSON Format Data\n",
    "\n",
    "JSoN stands for JavaScript Object Notation (although it is not JavaScript!), and is a data format similar to Python dictionaries."
   ]
  },
  {
   "cell_type": "markdown",
   "metadata": {},
   "source": [
    "### Creating JSON Data"
   ]
  },
  {
   "cell_type": "code",
   "execution_count": 82,
   "metadata": {},
   "outputs": [],
   "source": [
    "import json\n",
    "import requests  #similar to urllib, this library allows a computer to ping a website\n",
    "import pandas as pd\n",
    "from datetime import datetime\n"
   ]
  },
  {
   "cell_type": "markdown",
   "metadata": {},
   "source": [
    "### Load in JSON Data"
   ]
  },
  {
   "cell_type": "markdown",
   "metadata": {},
   "source": [
    "## MD Traffic JSON Data\n",
    "\n",
    "Traffic Violation Data collected from MD County Portal.\n",
    "\n",
    "Data source: https://www.montgomerycountymd.gov"
   ]
  },
  {
   "cell_type": "code",
   "execution_count": 106,
   "metadata": {},
   "outputs": [],
   "source": [
    "filepath = \"https://data.montgomerycountymd.gov/resource/ms8i-8ux3.json\"\n",
    "savedata = \"mdTraffic.csv\""
   ]
  },
  {
   "cell_type": "code",
   "execution_count": 84,
   "metadata": {},
   "outputs": [
    {
     "data": {
      "text/plain": [
       "<Response [200]>"
      ]
     },
     "execution_count": 84,
     "metadata": {},
     "output_type": "execute_result"
    }
   ],
   "source": [
    "#the get function checks to make sure that the website/server is responding back\n",
    "#200 means that we're good\n",
    "#https://www.restapitutorial.com/httpstatuscodes.html\n",
    "resp = requests.get(filepath)\n",
    "resp"
   ]
  },
  {
   "cell_type": "code",
   "execution_count": 97,
   "metadata": {},
   "outputs": [
    {
     "data": {
      "text/plain": [
       "'[{\"accident\":\"No\",\"agency\":\"MCP\",\"alcohol\":\"No\",\"arrest_type\":\"A - Marked Patrol\",\"article\":\"Transportation Article\",\"belts\":\"No\",\"charge\":\"21-902(b1i)\",\"color\":\"BLACK\",\"commercial_license\":\"No\",\"commercial_vehicle\":\"No\",\"contributed_to_accident\":\"No\",\"date_of_stop\":\"2019-02-16T00:00:00.000\",\"description\":\"DRIVING VEH. WHILE IMPAIRED BY ALCOHOL\",\"dl_state\":\"MD\",\"driver_city\":\"SILVER SPRING\",\"driver_state\":\"MD\",\"fatal\":\"No\",\"gender\":\"M\",\"hazmat\":\"No\",\"location\":\"118 @ FATHER HURLEY\",\"make\":\"MAZDA\",\"model\":\"3\",\"personal_injury\":\"No\",\"property_damage\":\"No\",\"race\":\"HISPANIC\",\"state\":\"MD\",\"subagency\":\"5th district, Germantown\",\"time_of_stop\":\"02:25:00\",\"vehicle_type\":\"02 - Automobile\",\"violation_type\":\"Citation\",\"work_zone\":\"No\",\"year\":\"2014\"}\\n,{\":@computed_region_d7bw_bq6x\":\"31\",\":@computed_region_kbsp_ykn9\":\"36\",\":@computed_region_rbt8_3x7n\":\"21\",\":@computed_region_tx5f_5em3\":\"3\",\"accident\":\"No\",\"agency\":\"MCP\",\"alcohol\":\"No\",\"arrest_type\":\"A - Marked Patrol\",\"article\":\"Transportation Arti'"
      ]
     },
     "execution_count": 97,
     "metadata": {},
     "output_type": "execute_result"
    }
   ],
   "source": [
    "#send a request to the website to return back text data from the API\n",
    "#returns data as JSON string\n",
    "str_data = resp.text\n",
    "str_data[:1000]    #Display only the first 1000 characters for testing purpose"
   ]
  },
  {
   "cell_type": "code",
   "execution_count": 99,
   "metadata": {},
   "outputs": [
    {
     "data": {
      "text/plain": [
       "[{'accident': 'No',\n",
       "  'agency': 'MCP',\n",
       "  'alcohol': 'No',\n",
       "  'arrest_type': 'A - Marked Patrol',\n",
       "  'article': 'Transportation Article',\n",
       "  'belts': 'No',\n",
       "  'charge': '21-902(b1i)',\n",
       "  'color': 'BLACK',\n",
       "  'commercial_license': 'No',\n",
       "  'commercial_vehicle': 'No',\n",
       "  'contributed_to_accident': 'No',\n",
       "  'date_of_stop': '2019-02-16T00:00:00.000',\n",
       "  'description': 'DRIVING VEH. WHILE IMPAIRED BY ALCOHOL',\n",
       "  'dl_state': 'MD',\n",
       "  'driver_city': 'SILVER SPRING',\n",
       "  'driver_state': 'MD',\n",
       "  'fatal': 'No',\n",
       "  'gender': 'M',\n",
       "  'hazmat': 'No',\n",
       "  'location': '118 @ FATHER HURLEY',\n",
       "  'make': 'MAZDA',\n",
       "  'model': '3',\n",
       "  'personal_injury': 'No',\n",
       "  'property_damage': 'No',\n",
       "  'race': 'HISPANIC',\n",
       "  'state': 'MD',\n",
       "  'subagency': '5th district, Germantown',\n",
       "  'time_of_stop': '02:25:00',\n",
       "  'vehicle_type': '02 - Automobile',\n",
       "  'violation_type': 'Citation',\n",
       "  'work_zone': 'No',\n",
       "  'year': '2014'}]"
      ]
     },
     "execution_count": 99,
     "metadata": {},
     "output_type": "execute_result"
    }
   ],
   "source": [
    "#loads function reversed dictionary order\n",
    "#dictionary objects are unordered in general\n",
    "mdTrafficData = json.loads(str_data)\n",
    "mdTrafficData[:1]"
   ]
  },
  {
   "cell_type": "code",
   "execution_count": 100,
   "metadata": {},
   "outputs": [
    {
     "data": {
      "text/plain": [
       "list"
      ]
     },
     "execution_count": 100,
     "metadata": {},
     "output_type": "execute_result"
    }
   ],
   "source": [
    "#verify that JSON object is one big dictionary\n",
    "type(mdTrafficData)"
   ]
  },
  {
   "cell_type": "code",
   "execution_count": 101,
   "metadata": {},
   "outputs": [],
   "source": [
    "#set empty lists to hold each feature's information\n",
    "\n",
    "Date_of_Stop = []\n",
    "Time_of_Stop = []\n",
    "Agency = []\n",
    "Subagency = []\n",
    "Description = []\n",
    "Location = []\n",
    "Latitude = []\n",
    "Longtitude = []\n",
    "Vehicle_Type = []\n",
    "Vehicle_Year = []\n",
    "Vehicle_Make = []\n",
    "Vehicle_Model = []\n",
    "Vehicle_Color = []\n",
    "Violation_Type = []\n",
    "Race = []\n",
    "Gender = []\n",
    "Drivers_State = []\n",
    "Drivers_License_State = []\n",
    "Arrest_Type = []\n"
   ]
  },
  {
   "cell_type": "code",
   "execution_count": 103,
   "metadata": {},
   "outputs": [],
   "source": [
    "#fill lists with data checking for invalid data validation/errors/exceptions\n",
    "\n",
    "TrafficList = []    # Used to hold the cleaned out master list\n",
    "\n",
    "format='%Y-%m-%d'+'T'+'%H:%M:%S.000'   # Used to match the date string as stored in the JSON file\n",
    "\n",
    "\n",
    "for mdTraffic in mdTrafficData:\n",
    "    \n",
    "    try:\n",
    "        Date_of_Stop = mdTraffic['date_of_stop']\n",
    "        #Extract only the date portion from the date string\n",
    "        date_time_obj = datetime.strptime(Date_of_Stop,format)\n",
    "        Date_of_Stop = date_time_obj.date()         \n",
    "        #Date_of_Stop = (datetime.strptime(Date_of_Stop,format)).date()  # same as above 2 lines\n",
    "        \n",
    "    except: Date_of_Stop = '*'\n",
    "\n",
    "    try: Time_of_Stop = mdTraffic['time_of_stop']\n",
    "    except: Time_of_Stop = '*'    \n",
    "\n",
    "    try: Agency = mdTraffic['agency']\n",
    "    except: Agency = '*'\n",
    "\n",
    "    try: Subagency = mdTraffic['subagency']\n",
    "    except: Subagency = '*'\n",
    "    \n",
    "    try: Description = mdTraffic['description']\n",
    "    except: Description = '*'    \n",
    "\n",
    "    try: Location = mdTraffic['location']\n",
    "    except: Location = '*'\n",
    "\n",
    "    try: Latitude = mdTraffic['latitude']\n",
    "    except: Latitude = '*'    \n",
    "\n",
    "    try: Longtitude = mdTraffic['longitude']\n",
    "    except: Longtitude = '*'\n",
    "\n",
    "    try: Vehicle_Type = mdTraffic['vehicle_type']\n",
    "    except: Vehicle_Type = '*'\n",
    "    \n",
    "    try: Vehicle_Year = mdTraffic['year']\n",
    "    except: Vehicle_Year = '*'    \n",
    "\n",
    "    try: Vehicle_Make = mdTraffic['make']\n",
    "    except: Vehicle_Make = '*'\n",
    "\n",
    "    try: Vehicle_Model = mdTraffic['model']\n",
    "    except: Vehicle_Model = '*'\n",
    "\n",
    "    try: Vehicle_Color = mdTraffic['color']\n",
    "    except: Vehicle_Color = '*'    \n",
    "\n",
    "    try: Violation_Type = mdTraffic['violation_type']\n",
    "    except: Violation_Type = '*'\n",
    "    \n",
    "    try: Race = mdTraffic['race']\n",
    "    except: Race = '*'    \n",
    "\n",
    "    try: Gender = mdTraffic['gender']\n",
    "    except: Gender = '*'        \n",
    "        \n",
    "    try: Drivers_State = mdTraffic['driver_state']\n",
    "    except: Drivers_State = '*'\n",
    "    \n",
    "    try: Drivers_License_State = mdTraffic['dl_state']\n",
    "    except: Drivers_License_State = '*'    \n",
    "\n",
    "    try: Arrest_Type = mdTraffic['arrest_type']\n",
    "    except: Arrest_Type = '*'            \n",
    "    \n",
    "    #Create a ad hoc list to hold each set of data.\n",
    "    tempList = []\n",
    "    \n",
    "    tempList.append(Date_of_Stop)\n",
    "    tempList.append(Time_of_Stop)\n",
    "    tempList.append(Agency)\n",
    "    tempList.append(Subagency)    \n",
    "    tempList.append(Description)\n",
    "    tempList.append(Location)\n",
    "    tempList.append(Latitude)\n",
    "    tempList.append(Longtitude)  \n",
    "    tempList.append(Vehicle_Type)\n",
    "    tempList.append(Vehicle_Year)\n",
    "    tempList.append(Vehicle_Make)\n",
    "    tempList.append(Vehicle_Model)\n",
    "    tempList.append(Vehicle_Color)\n",
    "    tempList.append(Violation_Type) \n",
    "    tempList.append(Race)\n",
    "    tempList.append(Gender) \n",
    "    tempList.append(Drivers_State)\n",
    "    tempList.append(Drivers_License_State)\n",
    "    tempList.append(Arrest_Type)     \n",
    " \n",
    "    #store the each dataset into main book list & repeated the FOR...LOOP\n",
    "    TrafficList.append(tempList)"
   ]
  },
  {
   "cell_type": "code",
   "execution_count": 104,
   "metadata": {},
   "outputs": [],
   "source": [
    "#Format the list headers\n",
    "\n",
    "colnames = ['Date_of_Stop','Time_of_Stop','Agency','Subagency','Description','Location','Latitude','Longtitude',\n",
    "            'Vehicle_Type','Vehicle_Year','Vehicle_Make','Vehicle_Model','Vehicle_Color','Violation_Type','Race',\n",
    "            'Gender','Drivers_State','Drivers_License_State','Arrest_Type']"
   ]
  },
  {
   "cell_type": "code",
   "execution_count": 108,
   "metadata": {},
   "outputs": [
    {
     "data": {
      "text/html": [
       "<div>\n",
       "<style scoped>\n",
       "    .dataframe tbody tr th:only-of-type {\n",
       "        vertical-align: middle;\n",
       "    }\n",
       "\n",
       "    .dataframe tbody tr th {\n",
       "        vertical-align: top;\n",
       "    }\n",
       "\n",
       "    .dataframe thead th {\n",
       "        text-align: right;\n",
       "    }\n",
       "</style>\n",
       "<table border=\"1\" class=\"dataframe\">\n",
       "  <thead>\n",
       "    <tr style=\"text-align: right;\">\n",
       "      <th></th>\n",
       "      <th>Date_of_Stop</th>\n",
       "      <th>Time_of_Stop</th>\n",
       "      <th>Agency</th>\n",
       "      <th>Subagency</th>\n",
       "      <th>Description</th>\n",
       "      <th>Location</th>\n",
       "      <th>Latitude</th>\n",
       "      <th>Longtitude</th>\n",
       "      <th>Vehicle_Type</th>\n",
       "      <th>Vehicle_Year</th>\n",
       "      <th>Vehicle_Make</th>\n",
       "      <th>Vehicle_Model</th>\n",
       "      <th>Vehicle_Color</th>\n",
       "      <th>Violation_Type</th>\n",
       "      <th>Race</th>\n",
       "      <th>Gender</th>\n",
       "      <th>Drivers_State</th>\n",
       "      <th>Drivers_License_State</th>\n",
       "      <th>Arrest_Type</th>\n",
       "    </tr>\n",
       "  </thead>\n",
       "  <tbody>\n",
       "    <tr>\n",
       "      <th>0</th>\n",
       "      <td>2019-02-16</td>\n",
       "      <td>02:25:00</td>\n",
       "      <td>MCP</td>\n",
       "      <td>5th district, Germantown</td>\n",
       "      <td>DRIVING VEH. WHILE IMPAIRED BY ALCOHOL</td>\n",
       "      <td>118 @ FATHER HURLEY</td>\n",
       "      <td>*</td>\n",
       "      <td>*</td>\n",
       "      <td>02 - Automobile</td>\n",
       "      <td>2014</td>\n",
       "      <td>MAZDA</td>\n",
       "      <td>3</td>\n",
       "      <td>BLACK</td>\n",
       "      <td>Citation</td>\n",
       "      <td>HISPANIC</td>\n",
       "      <td>M</td>\n",
       "      <td>MD</td>\n",
       "      <td>MD</td>\n",
       "      <td>A - Marked Patrol</td>\n",
       "    </tr>\n",
       "    <tr>\n",
       "      <th>1</th>\n",
       "      <td>2019-02-16</td>\n",
       "      <td>01:05:00</td>\n",
       "      <td>MCP</td>\n",
       "      <td>6th district, Gaithersburg / Montgomery Village</td>\n",
       "      <td>DRIVING VEH. W/O ADEQUATE REAR REG. PLATE ILLU...</td>\n",
       "      <td>MONTGOMERY VILLAGE AVE / N FREDERICK AVE</td>\n",
       "      <td>39.1520308333333</td>\n",
       "      <td>-77.2131408333333</td>\n",
       "      <td>02 - Automobile</td>\n",
       "      <td>2012</td>\n",
       "      <td>ACURA</td>\n",
       "      <td>TSX</td>\n",
       "      <td>BLACK</td>\n",
       "      <td>Warning</td>\n",
       "      <td>OTHER</td>\n",
       "      <td>M</td>\n",
       "      <td>MD</td>\n",
       "      <td>MD</td>\n",
       "      <td>A - Marked Patrol</td>\n",
       "    </tr>\n",
       "    <tr>\n",
       "      <th>2</th>\n",
       "      <td>2019-02-16</td>\n",
       "      <td>08:24:00</td>\n",
       "      <td>MCP</td>\n",
       "      <td>3rd district, Silver Spring</td>\n",
       "      <td>PARKING WHERE PROHIBITED BY OFFICIAL SIGNS</td>\n",
       "      <td>13966 CASTLE BLVD</td>\n",
       "      <td>39.083955</td>\n",
       "      <td>-76.9411616666667</td>\n",
       "      <td>02 - Automobile</td>\n",
       "      <td>2015</td>\n",
       "      <td>NISSAN</td>\n",
       "      <td>ALTIMA</td>\n",
       "      <td>SILVER</td>\n",
       "      <td>Citation</td>\n",
       "      <td>BLACK</td>\n",
       "      <td>F</td>\n",
       "      <td>MD</td>\n",
       "      <td>MD</td>\n",
       "      <td>A - Marked Patrol</td>\n",
       "    </tr>\n",
       "  </tbody>\n",
       "</table>\n",
       "</div>"
      ],
      "text/plain": [
       "  Date_of_Stop Time_of_Stop Agency  \\\n",
       "0   2019-02-16     02:25:00    MCP   \n",
       "1   2019-02-16     01:05:00    MCP   \n",
       "2   2019-02-16     08:24:00    MCP   \n",
       "\n",
       "                                         Subagency  \\\n",
       "0                         5th district, Germantown   \n",
       "1  6th district, Gaithersburg / Montgomery Village   \n",
       "2                      3rd district, Silver Spring   \n",
       "\n",
       "                                         Description  \\\n",
       "0             DRIVING VEH. WHILE IMPAIRED BY ALCOHOL   \n",
       "1  DRIVING VEH. W/O ADEQUATE REAR REG. PLATE ILLU...   \n",
       "2         PARKING WHERE PROHIBITED BY OFFICIAL SIGNS   \n",
       "\n",
       "                                   Location          Latitude  \\\n",
       "0                       118 @ FATHER HURLEY                 *   \n",
       "1  MONTGOMERY VILLAGE AVE / N FREDERICK AVE  39.1520308333333   \n",
       "2                         13966 CASTLE BLVD         39.083955   \n",
       "\n",
       "          Longtitude     Vehicle_Type Vehicle_Year Vehicle_Make Vehicle_Model  \\\n",
       "0                  *  02 - Automobile         2014        MAZDA             3   \n",
       "1  -77.2131408333333  02 - Automobile         2012        ACURA           TSX   \n",
       "2  -76.9411616666667  02 - Automobile         2015       NISSAN        ALTIMA   \n",
       "\n",
       "  Vehicle_Color Violation_Type      Race Gender Drivers_State  \\\n",
       "0         BLACK       Citation  HISPANIC      M            MD   \n",
       "1         BLACK        Warning     OTHER      M            MD   \n",
       "2        SILVER       Citation     BLACK      F            MD   \n",
       "\n",
       "  Drivers_License_State        Arrest_Type  \n",
       "0                    MD  A - Marked Patrol  \n",
       "1                    MD  A - Marked Patrol  \n",
       "2                    MD  A - Marked Patrol  "
      ]
     },
     "execution_count": 108,
     "metadata": {},
     "output_type": "execute_result"
    }
   ],
   "source": [
    "#make list into a dataframe\n",
    "\n",
    "df = pd.DataFrame(TrafficList, columns=colnames)\n",
    "\n",
    "df.head(3)"
   ]
  },
  {
   "cell_type": "code",
   "execution_count": null,
   "metadata": {},
   "outputs": [],
   "source": []
  },
  {
   "cell_type": "code",
   "execution_count": null,
   "metadata": {},
   "outputs": [],
   "source": []
  },
  {
   "cell_type": "code",
   "execution_count": 107,
   "metadata": {},
   "outputs": [],
   "source": [
    "#write the dataframe to a csv file into the working directory --- just for fun -):\n",
    "df.to_csv(savedata)"
   ]
  }
 ],
 "metadata": {
  "kernelspec": {
   "display_name": "Python 3",
   "language": "python",
   "name": "python3"
  },
  "language_info": {
   "codemirror_mode": {
    "name": "ipython",
    "version": 3
   },
   "file_extension": ".py",
   "mimetype": "text/x-python",
   "name": "python",
   "nbconvert_exporter": "python",
   "pygments_lexer": "ipython3",
   "version": "3.7.1"
  }
 },
 "nbformat": 4,
 "nbformat_minor": 2
}
